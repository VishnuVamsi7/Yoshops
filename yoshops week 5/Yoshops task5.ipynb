{
 "cells": [
  {
   "cell_type": "code",
   "execution_count": null,
   "id": "3c703ae1",
   "metadata": {},
   "outputs": [],
   "source": [
    "# 1.Write a python programm for merge two excel file data to one file\n",
    "# Write a python programm to shorting file in different folder means main folder containing 40 word file. Now after shorting create 4 child folder and store 10 file each folder.\n",
    "# 2.Write a python programm separate duplicate file.\n",
    "# Check with mobile number in main excel file and test data  doc and if it is same or equal create sperate file and store duplicate file data\n",
    "# 3.Write a python programm for Shorting file by keywords.\n",
    "# input: folder path = text value\n",
    "# Create new folder=text value\n",
    "# Search Keyword= text value\n",
    "# Output: Create folder with input value and inside folder all shorting files displaying."
   ]
  },
  {
   "cell_type": "code",
   "execution_count": 1,
   "id": "9c3d0427",
   "metadata": {},
   "outputs": [],
   "source": [
    "import pandas as pd\n",
    "\n",
    "# Read the two Excel files\n",
    "file1 = pd.read_excel(\"file1.xlsx\")\n",
    "file2 = pd.read_excel(\"file2.xlsx\")\n",
    "\n",
    "# Concatenate the dataframes\n",
    "merged_file = pd.concat([file1, file2], ignore_index=True)\n",
    "\n",
    "# Write the merged data to a new Excel file\n",
    "merged_file.to_excel(\"merged_file.xlsx\", index=False)\n"
   ]
  },
  {
   "cell_type": "code",
   "execution_count": 2,
   "id": "cb01ad85",
   "metadata": {},
   "outputs": [],
   "source": [
    "import os\n",
    "\n",
    "# Create main folder if it does not exist\n",
    "if not os.path.exists(\"main_folder\"):\n",
    "    os.mkdir(\"main_folder\")\n",
    "\n",
    "# Create 40 empty text files\n",
    "for i in range(1, 41):\n",
    "    filename = f\"file_{i}.txt\"\n",
    "    open(filename, \"w\").close()\n",
    "\n",
    "    # Move file to main folder\n",
    "    os.rename(filename, f\"main_folder/{filename}\")\n"
   ]
  },
  {
   "cell_type": "code",
   "execution_count": 3,
   "id": "8eaaf77e",
   "metadata": {},
   "outputs": [],
   "source": [
    "import os\n",
    "\n",
    "main_folder = r\"C:/Users/hp/Documents/main_folder\"\n",
    "text_files = [f for f in os.listdir(main_folder) if f.endswith('.txt')]\n",
    "\n",
    "# Create subfolders\n",
    "num_subfolders = 4\n",
    "for i in range(1, num_subfolders + 1):\n",
    "    sub_folder_name = f\"Subfolder_{i}\"\n",
    "    sub_folder_path = os.path.join(main_folder, sub_folder_name)\n",
    "    os.makedirs(sub_folder_path, exist_ok=True)\n",
    "\n",
    "# Sort files into subfolders\n",
    "for i, file_name in enumerate(text_files):\n",
    "    sub_folder_name = f\"Subfolder_{(i % num_subfolders) + 1}\"\n",
    "    old_path = os.path.join(main_folder, file_name)\n",
    "    new_path = os.path.join(main_folder, sub_folder_name, file_name)\n",
    "    os.rename(old_path, new_path)\n"
   ]
  },
  {
   "cell_type": "code",
   "execution_count": 18,
   "id": "ca504d42",
   "metadata": {},
   "outputs": [
    {
     "name": "stdout",
     "output_type": "stream",
     "text": [
      "   Mobile Number\n",
      "0     9876543210\n",
      "1     8919795539\n",
      "2     9034567890\n",
      "<class 'int'>\n",
      "<class 'str'>\n",
      "{9876543210, 9034567890}\n"
     ]
    }
   ],
   "source": [
    "import pandas as pd\n",
    "import os\n",
    "\n",
    "# Set paths for input files and output folder\n",
    "excel_file = \"file2.xlsx\"\n",
    "text_file = \"file2.txt\"\n",
    "output_folder = r\"C:\\Users\\hp\\Documents\\folder\"\n",
    "\n",
    "# Read in Excel file and extract mobile number column\n",
    "df = pd.read_excel(excel_file)\n",
    "print(df)\n",
    "mobile_numbers = df[\"Mobile Number\"].tolist()\n",
    "print(type(mobile_numbers[0]))\n",
    "# Read in text file and extract phone numbers\n",
    "with open(text_file, \"r\") as f:\n",
    "    phone_numbers = f.read().splitlines()\n",
    "    print(type(phone_numbers[0]))\n",
    "    phone_numbers = [int(i) for i in phone_numbers]\n",
    "# Find duplicates based on mobile and phone numbers\n",
    "duplicate_numbers = set(mobile_numbers).intersection(phone_numbers)\n",
    "print(duplicate_numbers)\n",
    "# Create separate files for duplicate data\n",
    "for number in duplicate_numbers:\n",
    "    # Filter Excel file for rows with duplicate mobile number\n",
    "    duplicates_df = df[df[\"Mobile Number\"] == number]\n",
    "    \n",
    "    # Write duplicate data to a separate Excel file\n",
    "    output_file = os.path.join(output_folder, f\"duplicates_{number}.xlsx\")\n",
    "    duplicates_df.to_excel(output_file, index=False)"
   ]
  },
  {
   "cell_type": "code",
   "execution_count": 4,
   "id": "045e44f4",
   "metadata": {},
   "outputs": [],
   "source": [
    "import os\n",
    "\n",
    "# Create main folder if it does not exist\n",
    "if not os.path.exists(\"main_folder2\"):\n",
    "    os.mkdir(\"main_folder2\")\n",
    "\n",
    "# Create 40 empty text files\n",
    "for i in range(1, 41):\n",
    "    filename = f\"files_{i}.txt\"\n",
    "    open(filename, \"w\").close()\n",
    "\n",
    "    # Move file to main folder\n",
    "    os.rename(filename, f\"main_folder2/{filename}\")\n"
   ]
  },
  {
   "cell_type": "code",
   "execution_count": 8,
   "id": "ee2a68a6",
   "metadata": {},
   "outputs": [],
   "source": [
    "import os\n",
    "import shutil\n",
    "\n",
    "# Create main folder if it does not exist\n",
    "\n",
    "\n",
    "def sort_files_by_keyword(folder_path, new_folder_name, search_keyword):\n",
    "    # Create a new folder with the specified name\n",
    "    os.mkdir(new_folder_name)\n",
    "    \n",
    "    # Loop through all the files in the folder\n",
    "    for file_name in os.listdir(folder_path):\n",
    "        file_path = os.path.join(folder_path, file_name)\n",
    "        \n",
    "        # Check if the file name contains the search keyword\n",
    "        if search_keyword in file_name:\n",
    "            # If the file name contains the search keyword, move it to the new folder\n",
    "            new_file_path = os.path.join(new_folder_name, file_name)\n",
    "            shutil.move(file_path, new_file_path)\n",
    "\n",
    "            # Sort files in the \"documents\" folder by the keyword \"report\" and move them to a new folder called \"report_files\"\n",
    "sort_files_by_keyword(\"main_folder2\", \"report_files\", \"file\")\n"
   ]
  },
  {
   "cell_type": "code",
   "execution_count": null,
   "id": "f07602eb",
   "metadata": {},
   "outputs": [],
   "source": []
  }
 ],
 "metadata": {
  "kernelspec": {
   "display_name": "Python 3 (ipykernel)",
   "language": "python",
   "name": "python3"
  },
  "language_info": {
   "codemirror_mode": {
    "name": "ipython",
    "version": 3
   },
   "file_extension": ".py",
   "mimetype": "text/x-python",
   "name": "python",
   "nbconvert_exporter": "python",
   "pygments_lexer": "ipython3",
   "version": "3.10.9"
  }
 },
 "nbformat": 4,
 "nbformat_minor": 5
}
