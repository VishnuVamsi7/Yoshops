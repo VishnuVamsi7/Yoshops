{
 "cells": [
  {
   "cell_type": "code",
   "execution_count": 1,
   "id": "31ba611c",
   "metadata": {},
   "outputs": [],
   "source": [
    "# Task:3\n",
    "# Automation : Products Page Automation Validation\n",
    "# Write a python programm to find product page where Products Image missing.\n",
    "# Enter 1 for Input value  = Yoshops.com\n",
    "# Enter 2 for Input value= Any main categories and sub categories Link\n",
    "# Output = create excel file with  web url, Products name, Products Details, contact no and address columns.\n",
    "# task - Work flow logic:\n",
    "# First  get the url of each product so that you can check whether their images are missing or not in the next step.\n",
    "# To do that  using beautiful soup or Auto Scraper lib file which requires a raw html code or webpage as a parameter and not a url(ie. yoshops.com).\n",
    "# You decided to use the request package to get the yoshops.com webpage so that you can pass it to beautiful soup but having permission issues.\n",
    "# Use urllib open instead of request get"
   ]
  },
  {
   "cell_type": "code",
   "execution_count": 2,
   "id": "d22ea5fa",
   "metadata": {},
   "outputs": [],
   "source": [
    "from bs4 import BeautifulSoup\n",
    "from urllib import request\n",
    "import re\n",
    "import openpyxl\n"
   ]
  },
  {
   "cell_type": "code",
   "execution_count": 3,
   "id": "4154c7cf",
   "metadata": {},
   "outputs": [
    {
     "name": "stdout",
     "output_type": "stream",
     "text": [
      "Enter the website: Yoshops.com\n"
     ]
    }
   ],
   "source": [
    "\n",
    "website = input(\"Enter the website: \")\n",
    "workbook = openpyxl.Workbook()\n",
    "\n",
    "worksheet = workbook.active"
   ]
  },
  {
   "cell_type": "code",
   "execution_count": 4,
   "id": "9a857696",
   "metadata": {},
   "outputs": [],
   "source": [
    "fp = request.urlopen(\"https://yoshops.com/t/seafood\")\n",
    "mybytes = fp.read()\n",
    "mystr = mybytes.decode(\"utf8\")\n",
    "fp.close()\n",
    "pattern = r'img src=\"([^\"]+)\"'\n",
    "pattern2 = r'alt=\"([^\"]+)\"'\n",
    "\n",
    "matches = re.findall(pattern, mystr)\n",
    "matches2 = re.findall(pattern2, mystr)"
   ]
  },
  {
   "cell_type": "code",
   "execution_count": 5,
   "id": "1676dd62",
   "metadata": {
    "scrolled": true
   },
   "outputs": [
    {
     "name": "stdout",
     "output_type": "stream",
     "text": [
      "[' Yoshops.com All Rights Reserved', 'River Prawn Small- 4cm 250gm(Berhampur)', 'Rohu River Fish Raw 1Kg(Berhampur)', 'Rohu River Fish Cutting(No Head) 1Kg(Berhampur)', 'Vakura Catla River Fish Raw 1Kg(Berhampur)', 'Vakura Catla River Fish Cutting(No Head) 1Kg(Berhampur)', 'River Prawn Raw Big-12cm 250gm(Berhampur)', 'River Prawn Raw Middium- 6cm 250gm(Berhampur)', 'River Prawn Raw Big-12cm 500gm(Berhampur)', 'River Prawn Raw Middium- 6cm 500gm(Berhampur)', 'River Prawn Small- 4cm 500gm(Berhampur)', 'CCAvenue']\n"
     ]
    }
   ],
   "source": [
    "print(matches2)"
   ]
  },
  {
   "cell_type": "markdown",
   "id": "dd7e32b0",
   "metadata": {},
   "source": []
  },
  {
   "cell_type": "code",
   "execution_count": 6,
   "id": "9cbd5daf",
   "metadata": {},
   "outputs": [
    {
     "name": "stdout",
     "output_type": "stream",
     "text": [
      "['Cooking OiL 1Liter(Berhampur)', 'ATTA 1Kg(Berhampur)', 'Sweet Pickel 1Kg(Berhampur)', 'River Prawn Small- 4cm 250gm(Berhampur)', 'Rohu River Fish Raw 1Kg(Berhampur)', 'Rohu River Fish Cutting(No Head) 1Kg(Berhampur)', 'Vakura Catla River Fish Raw 1Kg(Berhampur)', 'River Prawn Raw Big-12cm 250gm(Berhampur)', 'River Prawn Raw Middium- 6cm 250gm(Berhampur)', 'River Prawn Raw Big-12cm 500gm(Berhampur)', 'River Prawn Raw Middium- 6cm 500gm(Berhampur)', 'River Prawn Small- 4cm 500gm(Berhampur)']\n"
     ]
    }
   ],
   "source": [
    "subcategories = [\"organic\",\"vegetable\",\"non-veg\",\"seafood\",\"biryani\"]\n",
    "P_no_Img = []\n",
    "for i in range(5):  #as there are 5 sub categories in food\n",
    "    fp = request.urlopen(\"https://yoshops.com/t/\"+subcategories[i].lower())\n",
    "    mybytes = fp.read()\n",
    "    mystr = mybytes.decode(\"utf8\")\n",
    "    fp.close()\n",
    "    pattern = r'img src=\"([^\"]+)\"'\n",
    "    pattern2 = r'alt=\"([^\"]+)\"'\n",
    "    matches = re.findall(pattern, mystr)\n",
    "    matches2 = re.findall(pattern2, mystr)\n",
    "    for i in range(len(matches)):\n",
    "        if \"noimage\" in matches[i].split(\"/\"):\n",
    "            P_no_Img.append(matches2[i])\n",
    "print(P_no_Img)"
   ]
  },
  {
   "cell_type": "code",
   "execution_count": 7,
   "id": "4962b793",
   "metadata": {},
   "outputs": [
    {
     "name": "stdout",
     "output_type": "stream",
     "text": [
      "cooking-oil-1liter-berhampur\n",
      "atta-1kg-berhampur\n",
      "sweet-pickel-1kg-berhampur\n",
      "river-prawn-small-4cm-250gm-berhampur\n",
      "rohu-river-fish-raw-1kg-berhampur\n",
      "rohu-river-fish-cutting-no-head-1kg-berhampur\n",
      "vakura-catla-river-fish-raw-1kg-berhampur\n",
      "river-prawn-raw-big-12cm-250gm-berhampur\n",
      "river-prawn-raw-middium-6cm-250gm-berhampur\n",
      "river-prawn-raw-big-12cm-500gm-berhampur\n",
      "river-prawn-raw-middium-6cm-500gm-berhampur\n",
      "river-prawn-small-4cm-500gm-berhampur\n",
      "['Buy Cooking OiL 1Literat  price Rs.149 from Yoshops.com,CASH On Delivery Available, 1.Yo-Gift Available,FREE SHIPPING above Rs.500 value', 'Buy ATTA 1Kg at  price Rs.99 from Yoshops.com,CASH On Delivery Available, 1.Yo-Gift Available,FREE SHIPPING above Rs.500 value', 'Buy Sweet Pickel 1Kg at  price Rs.79 from Yoshops.com,CASH On Delivery Available, 1.Yo-Gift Available,FREE SHIPPING above Rs.500 value', 'Buy River Prawn Small- 4cm 250gm at  price Rs.59 from Yoshops.com,CASH On Delivery Available, 1.Yo-Gift Available,FREE SHIPPING above Rs.500 value', 'Buy Rohu River Fish Raw 1Kg at  price Rs.149 from Yoshops.com,CASH On Delivery Available, 1.Yo-Gift Available,FREE SHIPPING above Rs.500 value', 'BuyRohu River Fish  Cutting(No Head) 1Kg at  price Rs.269 from Yoshops.com,CASH On Delivery Available, 1.Yo-Gift Available,FREE SHIPPING above Rs.500 value', 'Buy Vakura Catla River Fish  Raw 1Kg at  price Rs.149 from Yoshops.com,CASH On Delivery Available, 1.Yo-Gift Available,FREE SHIPPING above Rs.500 value', 'Buy River Prawn Raw Big-12cm 250gm at  price Rs.99 from Yoshops.com,CASH On Delivery Available, 1.Yo-Gift Available,FREE SHIPPING above Rs.500 value', 'BuyRiver Prawn Raw Middium- 6cm 250gm at  price Rs.79 from Yoshops.com,CASH On Delivery Available, 1.Yo-Gift Available,FREE SHIPPING above Rs.500 value', 'Buy River Prawn Raw Big-12cm 500gm at  price Rs.199 from Yoshops.com,CASH On Delivery Available, 1.Yo-Gift Available,FREE SHIPPING above Rs.500 value', 'Buy River Prawn Raw Middium- 6cm 500gm at  price Rs.159 from Yoshops.com,CASH On Delivery Available, 1.Yo-Gift Available,FREE SHIPPING above Rs.500 value', 'Buy River Prawn Small- 4cm 500gm at  price Rs.99 from Yoshops.com,CASH On Delivery Available, 1.Yo-Gift Available,FREE SHIPPING above Rs.500 value']\n",
      "['https://yoshops.com/products/cooking-oil-1liter-berhampur', 'https://yoshops.com/products/atta-1kg-berhampur', 'https://yoshops.com/products/sweet-pickel-1kg-berhampur', 'https://yoshops.com/products/river-prawn-small-4cm-250gm-berhampur', 'https://yoshops.com/products/rohu-river-fish-raw-1kg-berhampur', 'https://yoshops.com/products/rohu-river-fish-cutting-no-head-1kg-berhampur', 'https://yoshops.com/products/vakura-catla-river-fish-raw-1kg-berhampur', 'https://yoshops.com/products/river-prawn-raw-big-12cm-250gm-berhampur', 'https://yoshops.com/products/river-prawn-raw-middium-6cm-250gm-berhampur', 'https://yoshops.com/products/river-prawn-raw-big-12cm-500gm-berhampur', 'https://yoshops.com/products/river-prawn-raw-middium-6cm-500gm-berhampur', 'https://yoshops.com/products/river-prawn-small-4cm-500gm-berhampur']\n"
     ]
    }
   ],
   "source": [
    "content = []\n",
    "web_links = []\n",
    "for i in P_no_Img:\n",
    "    i = i.replace(\"- \", \"-\").replace(\" \", \"-\").replace(\"(\",\"-\").replace(\")\",\"\")\n",
    "    print(i.lower())\n",
    "    fp1 = request.urlopen(\"https://yoshops.com/products/\"+i.lower())\n",
    "    web_links.append(\"https://yoshops.com/products/\"+i.lower())\n",
    "    mybytes1 = fp1.read()\n",
    "    mystr1 = mybytes1.decode(\"utf8\")\n",
    "    fp1.close()\n",
    "    pattern3 = r'meta content=\"([^\"]+)\"'\n",
    "    matches3 = re.findall(pattern3, mystr1)\n",
    "    content.append(matches3[2])\n",
    "print(content)\n",
    "print(web_links)"
   ]
  },
  {
   "cell_type": "code",
   "execution_count": 8,
   "id": "64561ece",
   "metadata": {},
   "outputs": [],
   "source": [
    "web_links.insert(0, 'web_links')\n",
    "content.insert(0, 'content')\n",
    "P_no_Img.insert(0, 'P_no_Img')"
   ]
  },
  {
   "cell_type": "code",
   "execution_count": 10,
   "id": "7ccda765",
   "metadata": {},
   "outputs": [],
   "source": [
    "\n",
    "for i, value in enumerate(P_no_Img):\n",
    "    worksheet.cell(row=i+1, column=1).value = value\n",
    "    \n",
    "for i, value in enumerate(web_links):\n",
    "    worksheet.cell(row=i+1, column=2).value = value\n",
    "    \n",
    "for i, value in enumerate(content):\n",
    "    worksheet.cell(row=i+1, column=3).value = value\n",
    "    \n",
    "\n",
    "workbook.save('Yoshopsweek4_excelsheet.xlsx')"
   ]
  },
  {
   "cell_type": "code",
   "execution_count": null,
   "id": "034f2019",
   "metadata": {},
   "outputs": [],
   "source": []
  }
 ],
 "metadata": {
  "kernelspec": {
   "display_name": "Python 3 (ipykernel)",
   "language": "python",
   "name": "python3"
  },
  "language_info": {
   "codemirror_mode": {
    "name": "ipython",
    "version": 3
   },
   "file_extension": ".py",
   "mimetype": "text/x-python",
   "name": "python",
   "nbconvert_exporter": "python",
   "pygments_lexer": "ipython3",
   "version": "3.10.9"
  }
 },
 "nbformat": 4,
 "nbformat_minor": 5
}
